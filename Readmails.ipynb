{
 "cells": [
  {
   "cell_type": "markdown",
   "metadata": {},
   "source": [
    "## Read mails from Inbox using Python"
   ]
  },
  {
   "cell_type": "code",
   "execution_count": 1,
   "metadata": {},
   "outputs": [],
   "source": [
    "import imaplib\n",
    "import email\n",
    "from email.header import decode_header\n",
    "import webbrowser\n",
    "import os\n",
    "import time"
   ]
  },
  {
   "cell_type": "code",
   "execution_count": null,
   "metadata": {},
   "outputs": [],
   "source": [
    "# account credentials\n",
    "username = input('Email: ')\n",
    "password = input('Password: ')\n"
   ]
  },
  {
   "cell_type": "code",
   "execution_count": 2,
   "metadata": {},
   "outputs": [],
   "source": [
    "\n",
    "# number of top emails to fetch\n",
    "N = input(\"Number of top emails to fetch: \")\n",
    "if N is None or N==0:\n",
    "    N = 3"
   ]
  },
  {
   "cell_type": "code",
   "execution_count": 3,
   "metadata": {},
   "outputs": [
    {
     "data": {
      "text/plain": [
       "('OK', [b'LOGIN completed.'])"
      ]
     },
     "execution_count": 3,
     "metadata": {},
     "output_type": "execute_result"
    }
   ],
   "source": [
    "\n",
    "# create an IMAP4 class with SSL, use your email provider's IMAP server\n",
    "imap = imaplib.IMAP4_SSL(\"outlook.office365.com\") # gmail= \"imap.gmail.com\"\n",
    "# authenticate\n",
    "imap.login(username, password)\n"
   ]
  },
  {
   "cell_type": "code",
   "execution_count": 4,
   "metadata": {},
   "outputs": [],
   "source": [
    "# select a mailbox (in this case, the inbox mailbox)\n",
    "# use imap.list() to get the list of mailboxes\n",
    "status, messages = imap.select(\"INBOX\")\n",
    "\n"
   ]
  },
  {
   "cell_type": "code",
   "execution_count": 5,
   "metadata": {},
   "outputs": [
    {
     "data": {
      "text/plain": [
       "2720"
      ]
     },
     "execution_count": 5,
     "metadata": {},
     "output_type": "execute_result"
    }
   ],
   "source": [
    "# total number of emails\n",
    "messages = int(messages[0])\n",
    "messages"
   ]
  },
  {
   "cell_type": "markdown",
   "metadata": {},
   "source": [
    "\n",
    "- Fetch the mails from inbox,\n",
    "- decode the email subject and body\n",
    "- Iterating over mail contemts, we decode the encoded data\n",
    "- create a new folder inside root directory with subject name and fetch attachments into it, if present\n"
   ]
  },
  {
   "cell_type": "code",
   "execution_count": null,
   "metadata": {},
   "outputs": [],
   "source": [
    "for i in range(messages-4, messages-N-4, -1):\n",
    "    # fetch the email message by ID\n",
    "    res, msg = imap.fetch(str(i), \"(RFC822)\")\n",
    "    for response in msg:\n",
    "        if isinstance(response, tuple):\n",
    "            # parse a bytes email into a message object\n",
    "            msg = email.message_from_bytes(response[1])\n",
    "            \n",
    "            # decode the email subject\n",
    "            subject = decode_header(msg[\"Subject\"])[0][0]\n",
    "            if isinstance(subject, bytes):\n",
    "                # if it's a bytes, decode to str\n",
    "                subject = subject.decode()\n",
    "            \n",
    "            # email sender\n",
    "            from_ = msg.get(\"From\")\n",
    "            print(\"Subject:\", subject)\n",
    "            print(\"From:\", from_)\n",
    "            \n",
    "            # if the email message is multipart\n",
    "            if msg.is_multipart():\n",
    "               \n",
    "                # iterate over email parts\n",
    "                for part in msg.walk():\n",
    "                    \n",
    "                    # extract content type of email\n",
    "                    content_type = part.get_content_type()\n",
    "                    content_disposition = str(part.get(\"Content-Disposition\"))\n",
    "                    try:\n",
    "                        # get the email body\n",
    "                        body = part.get_payload(decode=True).decode()\n",
    "                    except:\n",
    "                        pass\n",
    "                    if content_type == \"text/plain\" and \"attachment\" not in content_disposition:\n",
    "                        \n",
    "                        # print text/plain emails and skip attachments\n",
    "                        print(body)\n",
    "                    \n",
    "                    elif \"attachment\" in content_disposition:\n",
    "                        \n",
    "                        # download attachment\n",
    "                        filename = part.get_filename()\n",
    "                        if filename:\n",
    "                            if not os.path.isdir(subject):\n",
    "                                \n",
    "                                # make a folder for this email (named after the subject)\n",
    "                                os.mkdir(subject)\n",
    "                            filepath = os.path.join(subject, filename)\n",
    "                            \n",
    "                            # download attachment and save it\n",
    "                            open(filepath, \"wb\").write(part.get_payload(decode=True))\n",
    "            else:\n",
    "                # extract content type of email\n",
    "                content_type = msg.get_content_type()\n",
    "                \n",
    "                # get the email body\n",
    "                body = msg.get_payload(decode=True).decode()\n",
    "                if content_type == \"text/plain\":\n",
    "                    \n",
    "                    # print only text email parts\n",
    "                    print(body)\n",
    "            \n",
    "            if content_type == \"text/html\":\n",
    "                \n",
    "                # if it's HTML, create a new HTML file and open it in browser\n",
    "#                 if not os.path.isdir(subject):\n",
    "                    \n",
    "                # make a folder for this email (named after the subject)\n",
    "                dirname = subject[:20] + str(round(time.time()))\n",
    "                os.mkdir(dirname)\n",
    "\n",
    "                filename = subject[:20] + str(round(time.time()))+ \".html\"\n",
    "                filepath = os.path.join(dirname, filename)\n",
    "                print(filepath)\n",
    "                \n",
    "                # write the file\n",
    "                open(filepath, \"w\").write(body)\n",
    "                \n",
    "                # open in the default browser\n",
    "                webbrowser.open(filepath)\n",
    "\n",
    "            print(\"=\"*100)\n",
    "\n",
    "# close the connection and logout\n",
    "imap.close()\n",
    "imap.logout()"
   ]
  },
  {
   "cell_type": "code",
   "execution_count": null,
   "metadata": {},
   "outputs": [],
   "source": []
  }
 ],
 "metadata": {
  "kernelspec": {
   "display_name": "Python 3",
   "language": "python",
   "name": "python3"
  },
  "language_info": {
   "codemirror_mode": {
    "name": "ipython",
    "version": 3
   },
   "file_extension": ".py",
   "mimetype": "text/x-python",
   "name": "python",
   "nbconvert_exporter": "python",
   "pygments_lexer": "ipython3",
   "version": "3.7.6"
  }
 },
 "nbformat": 4,
 "nbformat_minor": 4
}
