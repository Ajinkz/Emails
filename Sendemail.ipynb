{
 "cells": [
  {
   "cell_type": "markdown",
   "metadata": {},
   "source": [
    "## Send emails using Python"
   ]
  },
  {
   "cell_type": "code",
   "execution_count": 16,
   "metadata": {},
   "outputs": [],
   "source": [
    "import smtplib\n",
    "import os\n",
    "from email import encoders\n",
    "from email.mime.base import MIMEBase\n",
    "from email.mime.multipart import MIMEMultipart\n",
    "from email.mime.text import MIMEText\n"
   ]
  },
  {
   "cell_type": "code",
   "execution_count": 17,
   "metadata": {},
   "outputs": [],
   "source": [
    "#sender\n",
    "mid='sender@xyz.com'\n",
    "pwd='xxxxxxxxxxxxxxxx'\n",
    "#receiver\n",
    "rec='receiver@xyz.com'\n",
    "sender_email_address = mid\n",
    "sender_email_password = pwd\n",
    "receiver_email_address = rec"
   ]
  },
  {
   "cell_type": "code",
   "execution_count": 26,
   "metadata": {},
   "outputs": [],
   "source": [
    "#subject line\n",
    "email_subject_line = 'New test msg alert...!!!'"
   ]
  },
  {
   "cell_type": "code",
   "execution_count": 27,
   "metadata": {},
   "outputs": [],
   "source": [
    "# Creates a multipart/* type message\n",
    "msg = MIMEMultipart()\n",
    "msg['From'] = sender_email_address\n",
    "msg['To'] = receiver_email_address\n",
    "msg['Subject'] = email_subject_line\n",
    "\n"
   ]
  },
  {
   "cell_type": "code",
   "execution_count": 29,
   "metadata": {},
   "outputs": [],
   "source": [
    "# Create the body of the message (a plain-text and an HTML version).\n",
    "text = \"Hi! User😀, \\nThis is plain text msg.\"\n",
    "html = \"\"\"\\\n",
    "<html>\n",
    "  <head></head>\n",
    "  <body>\n",
    "  <hr>\n",
    "    <p>Hi User,\n",
    "     This is html based content<a href=\"http://ajinkz.github.io\">link</a> .\n",
    "     <img src=\"https://img.shields.io/badge/Test-Email-blue\">\n",
    "    </p>\n",
    "    <hr>\n",
    "  </body>\n",
    "</html>\n",
    "\"\"\"\n",
    "\n",
    "# Record the MIME types of both parts - text/plain and text/html.\n",
    "part1 = MIMEText(text, 'plain')\n",
    "part2 = MIMEText(html, 'html')\n",
    "\n",
    "# Attach parts into message container.\n",
    "# According to RFC 2046, the last part of a multipart message, in this case\n",
    "# the HTML message, is best and preferred.\n",
    "msg.attach(part1)\n",
    "msg.attach(part2)\n"
   ]
  },
  {
   "cell_type": "code",
   "execution_count": 30,
   "metadata": {},
   "outputs": [],
   "source": [
    "#adding attachment to email\n",
    "file_name = \"banner.jpg\"\n",
    "part3 = MIMEBase('application', \"octet-stream\")\n",
    "part3.set_payload(open(file_name, \"rb\").read())\n",
    "encoders.encode_base64(part3)\n",
    "part3.add_header('Content-Disposition', 'attachment;filename=\"banner.jpg\"')\n",
    "msg.attach(part3)"
   ]
  },
  {
   "cell_type": "code",
   "execution_count": 34,
   "metadata": {},
   "outputs": [],
   "source": [
    "# Convert the msg data into string format\n",
    "email_content = msg.as_string()"
   ]
  },
  {
   "cell_type": "code",
   "execution_count": 32,
   "metadata": {},
   "outputs": [
    {
     "data": {
      "text/plain": [
       "(235, b'2.7.0 Authentication successful')"
      ]
     },
     "execution_count": 32,
     "metadata": {},
     "output_type": "execute_result"
    }
   ],
   "source": [
    "#Create TLS sesion and login into mail\n",
    "server = smtplib.SMTP('smtp.office365.com:587') #gmail = \"smtp.gmail.com:587\"\n",
    "server.starttls()\n",
    "server.login(sender_email_address, sender_email_password)\n"
   ]
  },
  {
   "cell_type": "code",
   "execution_count": 33,
   "metadata": {},
   "outputs": [
    {
     "data": {
      "text/plain": [
       "(221, b'2.0.0 Service closing transmission channel')"
      ]
     },
     "execution_count": 33,
     "metadata": {},
     "output_type": "execute_result"
    }
   ],
   "source": [
    "# sending mail\n",
    "server.sendmail(sender_email_address, receiver_email_address, email_content)\n",
    "server.quit()"
   ]
  },
  {
   "cell_type": "code",
   "execution_count": null,
   "metadata": {},
   "outputs": [],
   "source": []
  }
 ],
 "metadata": {
  "kernelspec": {
   "display_name": "Python 3",
   "language": "python",
   "name": "python3"
  },
  "language_info": {
   "codemirror_mode": {
    "name": "ipython",
    "version": 3
   },
   "file_extension": ".py",
   "mimetype": "text/x-python",
   "name": "python",
   "nbconvert_exporter": "python",
   "pygments_lexer": "ipython3",
   "version": "3.7.6"
  }
 },
 "nbformat": 4,
 "nbformat_minor": 4
}
